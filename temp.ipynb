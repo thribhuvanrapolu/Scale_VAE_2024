{
 "cells": [
  {
   "cell_type": "code",
   "execution_count": 3,
   "metadata": {},
   "outputs": [
    {
     "data": {
      "text/plain": [
       "3211"
      ]
     },
     "execution_count": 3,
     "metadata": {},
     "output_type": "execute_result"
    }
   ],
   "source": [
    "from scale_utils.data import Dataset\n",
    "\n",
    "train_file='datasets/yahoo/yahoo-train.hdf5'\n",
    "val_file='datasets/yahoo/yahoo-val.hdf5'\n",
    "test_file='datasets/yahoo/yahoo-test.hdf5'\n",
    "train_data=Dataset(train_file)\n",
    "val_data=Dataset(val_file)\n",
    "vocab_size=train_data.vocab_size\n",
    "\n",
    "len(train_data)"
   ]
  },
  {
   "cell_type": "code",
   "execution_count": 7,
   "metadata": {},
   "outputs": [
    {
     "data": {
      "text/plain": [
       "(tensor([ 22,  23,  24,  25,  26,  27,  28,  29,  30,  31,  32,  33,  34,  35,\n",
       "          36,  37,  38,  39,  40,  41,  42,  43,  44,  45,  46,  47,  48,  49,\n",
       "          50,  51,  52,  53,  54,  55,  56,  57,  58,  59,  60,  61,  62,  63,\n",
       "          64,  65,  66,  67,  68,  69,  70,  71,  72,  73,  74,  75,  76,  77,\n",
       "          78,  79,  80,  81,  82,  83,  84,  85,  86,  87,  88,  89,  90,  91,\n",
       "          92,  93,  94,  95,  96,  97,  98,  99, 100, 101, 102, 103, 104, 105,\n",
       "         106, 107, 108, 109, 110, 111, 112, 113, 114, 115, 116, 117, 118, 119,\n",
       "         120, 121, 122, 123, 124, 125, 126, 127, 128, 129, 130, 131, 132, 133,\n",
       "         134, 135, 136, 137, 138, 139, 140, 141, 142, 143, 144, 145, 146, 147,\n",
       "         148, 149, 150, 151, 152, 153, 154, 155, 156, 157, 158, 159, 160, 161,\n",
       "         162, 163, 164, 165, 166, 167, 168, 169, 170, 171, 172, 173, 174, 175,\n",
       "         176, 177, 178, 179, 180, 181, 182, 183, 184, 185, 186, 187, 188, 189,\n",
       "         190, 191, 192, 193, 194, 195, 196, 197, 198, 199, 200, 201, 202]),\n",
       " tensor([38, 38, 38, 40, 39, 38, 39, 39, 39, 37, 40, 37, 39, 38, 37, 37, 38, 35,\n",
       "         37, 36, 35, 34, 34, 33, 31, 32, 34, 34, 30, 31, 31, 30, 31, 30, 31, 29,\n",
       "         28, 29, 29, 27, 28, 28, 26, 26, 26, 24, 26, 25, 25, 25, 25, 24, 26, 23,\n",
       "         22, 23, 23, 23, 20, 21, 22, 21, 20, 20, 19, 19, 20, 20, 18, 20, 20, 18,\n",
       "         18, 18, 17, 16, 18, 18, 17, 17, 17, 16, 16, 16, 15, 16, 15, 14, 14, 14,\n",
       "         15, 13, 15, 13, 13, 14, 13, 14, 13, 14, 12, 13, 12, 13, 12, 12, 11, 12,\n",
       "         12, 12, 13, 11, 12, 10, 11, 11, 10, 10, 10, 10, 10,  9, 10, 10,  9,  9,\n",
       "          9,  9, 10,  9,  9,  8,  8,  9,  9,  9,  8,  8,  8,  8,  8,  8,  8,  8,\n",
       "          7,  8,  8,  8,  8,  8,  6,  7,  7,  7,  7,  6,  7,  6,  7,  6,  6,  6,\n",
       "          6,  7,  6,  6,  6,  6,  6,  6,  5,  6,  6,  6,  5,  6,  5,  5,  5,  6,\n",
       "          6]))"
      ]
     },
     "execution_count": 7,
     "metadata": {},
     "output_type": "execute_result"
    }
   ],
   "source": [
    "train_data.sent_lengths.unique(return_counts=True)"
   ]
  },
  {
   "cell_type": "code",
   "execution_count": null,
   "metadata": {},
   "outputs": [],
   "source": []
  }
 ],
 "metadata": {
  "kernelspec": {
   "display_name": "work",
   "language": "python",
   "name": "python3"
  },
  "language_info": {
   "codemirror_mode": {
    "name": "ipython",
    "version": 3
   },
   "file_extension": ".py",
   "mimetype": "text/x-python",
   "name": "python",
   "nbconvert_exporter": "python",
   "pygments_lexer": "ipython3",
   "version": "3.11.11"
  }
 },
 "nbformat": 4,
 "nbformat_minor": 2
}
